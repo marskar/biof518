{
 "cells": [
  {
   "cell_type": "markdown",
   "metadata": {},
   "source": [
    "This repository installs a fun program via `apt`. It is runnable from the command line.\n",
    "\n",
    "To do so from a notebook, just run the cell below!\n",
    "\n",
    "(Note that `apt-get` will install these dependencies to `/usr/games`,\n",
    "which isn't in the path by default)"
   ]
  },
  {
   "cell_type": "code",
   "execution_count": null,
   "metadata": {},
   "outputs": [],
   "source": [
    "!python -c \"import this\" | /usr/games/cowsay | /usr/games/lolcat"
   ]
  }
 ],
 "metadata": {
  "kernelspec": {
   "display_name": "Python 3",
   "language": "python",
   "name": "python3"
  },
  "language_info": {
   "codemirror_mode": {
    "name": "ipython",
    "version": 3
   },
   "file_extension": ".py",
   "mimetype": "text/x-python",
   "name": "python",
   "nbconvert_exporter": "python",
   "pygments_lexer": "ipython3",
   "version": "3.6.2"
  }
 },
 "nbformat": 4,
 "nbformat_minor": 2
}
